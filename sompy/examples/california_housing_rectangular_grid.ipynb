{
  "nbformat": 4,
  "nbformat_minor": 0,
  "metadata": {
    "anaconda-cloud": {},
    "kernelspec": {
      "display_name": "Python 3",
      "language": "python",
      "name": "python3"
    },
    "language_info": {
      "codemirror_mode": {
        "name": "ipython",
        "version": 3
      },
      "file_extension": ".py",
      "mimetype": "text/x-python",
      "name": "python",
      "nbconvert_exporter": "python",
      "pygments_lexer": "ipython3",
      "version": "3.6.5"
    },
    "colab": {
      "name": "california_housing_rectangular_grid.ipynb",
      "provenance": [],
      "toc_visible": true
    }
  },
  "cells": [
    {
      "cell_type": "markdown",
      "metadata": {
        "id": "TSiX_ecdHan9"
      },
      "source": [
        "\n",
        "# Self Organizing Maps example - California Housing"
      ]
    },
    {
      "cell_type": "markdown",
      "metadata": {
        "id": "xxE7_tNwHaoD"
      },
      "source": [
        "In this document, the SOMPY lib is going to be used in order to provide an example of usage of the Self Organising Maps algorithm. The data to be used will be the California Housing dataset, included in the SciKit Learn library and included below"
      ]
    },
    {
      "cell_type": "code",
      "metadata": {
        "id": "6Mq9epOfXr2O"
      },
      "source": [
        "!pip install git+https://github.com/sevamoo/SOMPY.git "
      ],
      "execution_count": null,
      "outputs": []
    },
    {
      "cell_type": "code",
      "metadata": {
        "id": "vL_HqgGDHaoD"
      },
      "source": [
        "%matplotlib inline\n",
        "import numpy as np\n",
        "from matplotlib import pyplot as plt\n",
        "from sklearn.datasets import fetch_california_housing \n"
      ],
      "execution_count": null,
      "outputs": []
    },
    {
      "cell_type": "code",
      "metadata": {
        "id": "BDL3pnEEQqdG"
      },
      "source": [
        "#from sompy.sompy import SOMFactory\n",
        "#import os\n",
        "#os.getcwd()\n",
        "\n",
        "#sys.path = '/usr/local/lib/python3.7/dist-packages/SOMPY-1.1.1-py3.7.egg'\n",
        "import sompy"
      ],
      "execution_count": null,
      "outputs": []
    },
    {
      "cell_type": "markdown",
      "metadata": {
        "id": "4vCCn-_6HaoE"
      },
      "source": [
        "## Data Loading"
      ]
    },
    {
      "cell_type": "markdown",
      "metadata": {
        "id": "7WGR3OfKHaoE"
      },
      "source": [
        "First of all the data is loaded into the local environment as a numpy array. "
      ]
    },
    {
      "cell_type": "code",
      "metadata": {
        "id": "QAgw5qeGHaoF"
      },
      "source": [
        "data = fetch_california_housing()\n",
        "descr = data.DESCR\n",
        "names = fetch_california_housing().feature_names+[\"HouseValue\"]\n",
        "\n",
        "data = np.column_stack([data.data, data.target])\n",
        "print(descr)\n",
        "print( \"FEATURES: \", \", \".join(names))"
      ],
      "execution_count": null,
      "outputs": []
    },
    {
      "cell_type": "markdown",
      "metadata": {
        "id": "JmOZUpTIHaoF"
      },
      "source": [
        "## SOM Training"
      ]
    },
    {
      "cell_type": "markdown",
      "metadata": {
        "id": "YNXFIm48HaoF"
      },
      "source": [
        "The SOM training consists in 2 phases: the rough and the finetune one. The parameters that can be configured in the training step are:\n",
        "\n",
        "- The size of each individual grid\n",
        "- The rough and finetune iterations\n",
        "- The rough and finetune initial and final radiuses\n",
        "- The initialization mechanism (random/pca)\n",
        "\n",
        "For the current example, only the rough/finetune iterations and the initialization mechanism parameters have been chosen. The other ones have not been specified so that the algorithm will choose them authomatically.  \n",
        "\n",
        "For quantifying the error of the approximation, 2 metrics should be computed: \n",
        "\n",
        "- **The quantization error**: average distance between each data vector and its BMU.\n",
        "- **The topographic error**: the proportion of all data vectors for which first and second BMUs are not adjacent units.\n",
        "\n",
        "A rule of thumb is to generate several models with different parameters and choose the one which, having a topographic error very near to zero, has the lowest quantization error. It is important to hold the topographic error very low in order to make the components smooth and easy to understand. "
      ]
    },
    {
      "cell_type": "code",
      "metadata": {
        "id": "jqnK-7d4HaoG"
      },
      "source": [
        "#msz = calculate_msz(data)\n",
        "sm = sompy.SOMFactory().build(data, normalization = 'var', initialization='random', component_names=names)\n",
        "sm.train(n_job=1, verbose='info', train_rough_len=2, train_finetune_len=5)"
      ],
      "execution_count": null,
      "outputs": []
    },
    {
      "cell_type": "code",
      "metadata": {
        "id": "WPMyjZyUHaoG"
      },
      "source": [
        "topographic_error = sm.calculate_topographic_error()\n",
        "quantization_error = np.mean(sm._bmu[1])\n",
        "print (\"Topographic error = %s; Quantization error = %s\" % (topographic_error, quantization_error))"
      ],
      "execution_count": null,
      "outputs": []
    },
    {
      "cell_type": "markdown",
      "metadata": {
        "id": "2vVn8j3MHaoG"
      },
      "source": [
        "## Visualization"
      ]
    },
    {
      "cell_type": "markdown",
      "metadata": {
        "id": "7TT7V9EnHaoH"
      },
      "source": [
        "#### Components map"
      ]
    },
    {
      "cell_type": "code",
      "metadata": {
        "scrolled": false,
        "id": "hPWrq5tBHaoH"
      },
      "source": [
        "from sompy.visualization.mapview import View2D\n",
        "view2D  = View2D(10,10,\"rand data\",text_size=10)\n",
        "view2D.show(sm, col_sz=4, which_dim=\"all\", denormalize=True)"
      ],
      "execution_count": null,
      "outputs": []
    },
    {
      "cell_type": "markdown",
      "metadata": {
        "id": "0gwkok9EHaoH"
      },
      "source": [
        "#### Hits map"
      ]
    },
    {
      "cell_type": "code",
      "metadata": {
        "scrolled": false,
        "id": "mxNKfuzgHaoH"
      },
      "source": [
        "from sompy.visualization.bmuhits import BmuHitsView\n",
        "\n",
        "vhts  = BmuHitsView(10,10,\"Hits Map\",text_size=7)\n",
        "vhts.show(sm, anotate=True, onlyzeros=False, labelsize=12, cmap=\"Greys\", logaritmic=False)"
      ],
      "execution_count": null,
      "outputs": []
    },
    {
      "cell_type": "markdown",
      "metadata": {
        "id": "7vtk1m56HaoI"
      },
      "source": [
        "#### K-Means clustering"
      ]
    },
    {
      "cell_type": "code",
      "metadata": {
        "id": "pKshbJrrHaoI"
      },
      "source": [
        "from sompy.visualization.hitmap import HitMapView\n",
        "sm.cluster(4)\n",
        "hits  = HitMapView(10,10,\"Clustering\",text_size=7)\n",
        "a=hits.show(sm, labelsize=12)"
      ],
      "execution_count": null,
      "outputs": []
    },
    {
      "cell_type": "markdown",
      "metadata": {
        "id": "HDY8LGBtHaoI"
      },
      "source": [
        "## Conclusions"
      ]
    },
    {
      "cell_type": "markdown",
      "metadata": {
        "id": "F_3mRCTgHaoI"
      },
      "source": [
        "From the visualizations above we can extract different conclusions like,\n",
        "- The houses which have, on average, more bedrooms are generally on lower average income areas.\n",
        "- The highest occupations occours only in cities where the population is high.\n",
        "- The latitude and longitude of the samples have a strong negative correlation. It can be because California is diagonally oriented with respect to the coordinates system.\n",
        "- The most demanded houses (AveOccup) are placed on the 37~38 latitude and -121.6~-121 longitude; i.e. near San-Francisco area\n",
        "- Old houses are more likely to have less rooms and bedrooms on average.\n",
        "- Low average income areas usually have less rooms and bedrooms than high average ones\n",
        "- The house value seems to be related with the average income of the area where it sits.\n",
        "\n",
        "It is important to remark that there are areas on the map where the density of instances is lower than others. It is represented by the hit map and it should be taken in consideration when interpreting the components map.\n",
        "\n",
        "The clustering map can be used to help to find out the different behaviors represented in the components map."
      ]
    }
  ]
}